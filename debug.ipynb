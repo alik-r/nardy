{
 "cells": [
  {
   "cell_type": "code",
   "execution_count": null,
   "metadata": {},
   "outputs": [],
   "source": [
    "from long_nardy import LongNardy\n",
    "\n",
    "ln = LongNardy()\n",
    "\n",
    "\n",
    "# ln.state.dice_remaining\n",
    "\n",
    "ln.state.pretty_print()\n",
    "new_states = ln.apply_dice(ln.state)\n",
    "\n",
    "for state in new_states:\n",
    "    state.pretty_print()"
   ]
  },
  {
   "cell_type": "code",
   "execution_count": null,
   "metadata": {},
   "outputs": [],
   "source": [
    "# testing if it blocks illegally\n",
    "\n",
    "from long_nardy import LongNardy\n",
    "\n",
    "ln = LongNardy()\n",
    "\n",
    "ln.state.board[22] = 1\n",
    "ln.state.board[21] = 1\n",
    "ln.state.board[19] = 1\n",
    "ln.state.board[18] = 1\n",
    "ln.state.board[23] = 11\n",
    "ln.state.board[15] = -1\n",
    "ln.state.board[11] = -14\n",
    "ln.state.is_white = True\n",
    "ln.state.dice_remaining = [2, 1]\n",
    "states = ln.apply_dice(ln.state)\n",
    "for state in states:\n",
    "    state.pretty_print()"
   ]
  },
  {
   "cell_type": "code",
   "execution_count": null,
   "metadata": {},
   "outputs": [],
   "source": [
    "from long_nardy import LongNardy\n",
    "\n",
    "ln = LongNardy()\n",
    "\n",
    "\n",
    "# ln.state.pretty_print()\n",
    "\n",
    "\n",
    "ln.state.board[22] = 1\n",
    "ln.state.board[21] = 1\n",
    "ln.state.board[20] = 1\n",
    "ln.state.board[19] = 1\n",
    "ln.state.board[18] = 1\n",
    "ln.state.board[23] = 9\n",
    "ln.state.is_white = False\n",
    "ln.state.dice_remaining = [6, 6, 6, 6]\n",
    "\n",
    "new_states = ln.apply_dice(ln.state)\n",
    "\n",
    "for state in new_states:\n",
    "    state.pretty_print()\n",
    "\n",
    "# ln.step()"
   ]
  },
  {
   "cell_type": "code",
   "execution_count": null,
   "metadata": {},
   "outputs": [],
   "source": [
    "# first ever move (3-3) case\n",
    "\n",
    "from long_nardy import LongNardy\n",
    "ln = LongNardy()\n",
    "ln.state.dice_remaining = [3, 3, 3, 3]\n",
    "states = ln.apply_dice(ln.state)\n",
    "for state in states:\n",
    "    state.pretty_print()"
   ]
  },
  {
   "cell_type": "code",
   "execution_count": null,
   "metadata": {},
   "outputs": [],
   "source": [
    "#first ever move (4-4) case\n",
    "\n",
    "from long_nardy import LongNardy\n",
    "ln = LongNardy()\n",
    "ln.state.dice_remaining = [4, 4, 4, 4]\n",
    "states = ln.apply_dice(ln.state)\n",
    "for state in states:\n",
    "    state.pretty_print()"
   ]
  },
  {
   "cell_type": "code",
   "execution_count": null,
   "metadata": {},
   "outputs": [],
   "source": [
    "#first ever move (6-6) case\n",
    "\n",
    "from long_nardy import LongNardy\n",
    "ln = LongNardy()\n",
    "ln.state.dice_remaining = [6, 6, 6, 6]\n",
    "states = ln.apply_dice(ln.state)\n",
    "for state in states:\n",
    "    state.pretty_print()"
   ]
  }
 ],
 "metadata": {
  "kernelspec": {
   "display_name": "venv",
   "language": "python",
   "name": "python3"
  },
  "language_info": {
   "codemirror_mode": {
    "name": "ipython",
    "version": 3
   },
   "file_extension": ".py",
   "mimetype": "text/x-python",
   "name": "python",
   "nbconvert_exporter": "python",
   "pygments_lexer": "ipython3",
   "version": "3.12.3"
  }
 },
 "nbformat": 4,
 "nbformat_minor": 2
}
