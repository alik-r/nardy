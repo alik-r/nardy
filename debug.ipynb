{
 "cells": [
  {
   "cell_type": "code",
   "execution_count": null,
   "metadata": {},
   "outputs": [],
   "source": [
    "from long_nardy import LongNardy\n",
    "\n",
    "ln = LongNardy()\n",
    "\n",
    "\n",
    "# ln.state.dice_remaining\n",
    "\n",
    "ln.state.pretty_print()\n",
    "new_states = ln.apply_dice(ln.state)\n",
    "\n",
    "for state in new_states:\n",
    "    state.pretty_print()"
   ]
  },
  {
   "cell_type": "code",
   "execution_count": null,
   "metadata": {},
   "outputs": [],
   "source": [
    "# testing if it blocks illegally\n",
    "\n",
    "from long_nardy import LongNardy\n",
    "\n",
    "ln = LongNardy()\n",
    "\n",
    "ln.state.board[22] = 1\n",
    "ln.state.board[21] = 1\n",
    "ln.state.board[19] = 1\n",
    "ln.state.board[18] = 1\n",
    "ln.state.board[23] = 11\n",
    "ln.state.board[15] = -1\n",
    "ln.state.board[11] = -14\n",
    "ln.state.is_white = True\n",
    "ln.state.dice_remaining = [2, 1]\n",
    "states = ln.apply_dice(ln.state)\n",
    "for state in states:\n",
    "    state.pretty_print()"
   ]
  },
  {
   "cell_type": "code",
   "execution_count": null,
   "metadata": {},
   "outputs": [],
   "source": [
    "from long_nardy import LongNardy\n",
    "\n",
    "ln = LongNardy()\n",
    "\n",
    "\n",
    "# ln.state.pretty_print()\n",
    "\n",
    "\n",
    "ln.state.board[22] = 1\n",
    "ln.state.board[21] = 1\n",
    "ln.state.board[20] = 1\n",
    "ln.state.board[19] = 1\n",
    "ln.state.board[18] = 1\n",
    "ln.state.board[23] = 9\n",
    "ln.state.is_white = False\n",
    "ln.state.dice_remaining = [6, 6, 6, 6]\n",
    "\n",
    "new_states = ln.apply_dice(ln.state)\n",
    "\n",
    "for state in new_states:\n",
    "    state.pretty_print()\n",
    "\n",
    "# ln.step()"
   ]
  },
  {
   "cell_type": "code",
   "execution_count": 1,
   "metadata": {},
   "outputs": [
    {
     "name": "stdout",
     "output_type": "stream",
     "text": [
      "\n",
      "Nardy Board State:\n",
      "-------------------------------------------------\n",
      "12 [ .]  13 [ .]  14 [ 1]  15 [ .]  16 [ .]  17 [ .]  18 [ .]  19 [ .]  20 [ 1]  21 [ .]  22 [ .]  23 [13]  \n",
      "-------------------------------------------------\n",
      "11 [-15]  10 [ .]   9 [ .]   8 [ .]   7 [ .]   6 [ .]   5 [ .]   4 [ .]   3 [ .]   2 [ .]   1 [ .]   0 [ .]  \n",
      "-------------------------------------------------\n",
      "\n",
      "White Turn:  False\n",
      "Dice:  [3, 3, 3, 3]\n",
      "White off:  0\n",
      "Black off:  0\n"
     ]
    }
   ],
   "source": [
    "# first ever move (3-3) case\n",
    "\n",
    "from long_nardy import LongNardy\n",
    "ln = LongNardy()\n",
    "ln.state.dice_remaining = [3, 3, 3, 3]\n",
    "states = ln.apply_dice(ln.state)\n",
    "for state in states:\n",
    "    state.pretty_print()"
   ]
  },
  {
   "cell_type": "code",
   "execution_count": 3,
   "metadata": {},
   "outputs": [
    {
     "name": "stdout",
     "output_type": "stream",
     "text": [
      "\n",
      "Nardy Board State:\n",
      "-------------------------------------------------\n",
      "12 [ .]  13 [ .]  14 [ .]  15 [ 2]  16 [ .]  17 [ .]  18 [ .]  19 [ .]  20 [ .]  21 [ .]  22 [ .]  23 [13]  \n",
      "-------------------------------------------------\n",
      "11 [-15]  10 [ .]   9 [ .]   8 [ .]   7 [ .]   6 [ .]   5 [ .]   4 [ .]   3 [ .]   2 [ .]   1 [ .]   0 [ .]  \n",
      "-------------------------------------------------\n",
      "\n",
      "White Turn:  False\n",
      "Dice:  [4, 4, 4, 4]\n",
      "White off:  0\n",
      "Black off:  0\n"
     ]
    }
   ],
   "source": [
    "#first ever move (4-4) case\n",
    "\n",
    "from long_nardy import LongNardy\n",
    "ln = LongNardy()\n",
    "ln.state.dice_remaining = [4, 4, 4, 4]\n",
    "states = ln.apply_dice(ln.state)\n",
    "for state in states:\n",
    "    state.pretty_print()"
   ]
  },
  {
   "cell_type": "code",
   "execution_count": null,
   "metadata": {},
   "outputs": [],
   "source": [
    "#first ever move (6-6) case\n",
    "\n",
    "from long_nardy import LongNardy\n",
    "ln = LongNardy()\n",
    "ln.state.dice_remaining = [6, 6, 6, 6]\n",
    "states = ln.apply_dice(ln.state)\n",
    "for state in states:\n",
    "    state.pretty_print()"
   ]
  }
 ],
 "metadata": {
  "kernelspec": {
   "display_name": "venv",
   "language": "python",
   "name": "python3"
  },
  "language_info": {
   "codemirror_mode": {
    "name": "ipython",
    "version": 3
   },
   "file_extension": ".py",
   "mimetype": "text/x-python",
   "name": "python",
   "nbconvert_exporter": "python",
   "pygments_lexer": "ipython3",
   "version": "3.12.3"
  }
 },
 "nbformat": 4,
 "nbformat_minor": 2
}
