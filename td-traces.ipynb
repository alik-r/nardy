{
 "cells": [
  {
   "cell_type": "code",
   "execution_count": null,
   "metadata": {},
   "outputs": [],
   "source": [
    "import torch\n",
    "from torch import nn\n",
    "import numpy as np\n",
    "from long_nardy import LongNardy\n",
    "from state import State\n",
    "from typing import Tuple, List"
   ]
  },
  {
   "cell_type": "code",
   "execution_count": null,
   "metadata": {},
   "outputs": [],
   "source": [
    "device = torch.accelerator.current_accelerator().type if torch.accelerator.is_available() else \"cpu\"\n",
    "print(f\"Using {device} device\")"
   ]
  },
  {
   "cell_type": "code",
   "execution_count": null,
   "metadata": {},
   "outputs": [],
   "source": [
    "class ANN(nn.Module):\n",
    "    def __init__(self):\n",
    "        super().__init__()\n",
    "\n",
    "        hidden_layers = []\n",
    "        hidden_layers.append(nn.Linear(100, 40))\n",
    "        hidden_layers.append(nn.ReLU())\n",
    "        for _ in range(80):\n",
    "            hidden_layers.append(nn.Linear(40, 40))\n",
    "            hidden_layers.append(nn.ReLU())\n",
    "        hidden_layers.append(nn.Linear(40, 1))\n",
    "        hidden_layers.append(nn.Sigmoid())\n",
    "\n",
    "        self.net = nn.Sequential(*hidden_layers)\n",
    "\n",
    "    def forward(self, x):\n",
    "        return self.net(x)"
   ]
  },
  {
   "cell_type": "code",
   "execution_count": null,
   "metadata": {},
   "outputs": [],
   "source": [
    "class Agent(nn.Module):\n",
    "    def __init__(self, lr, gamma, epsilon, lambda_):\n",
    "        super().__init__()\n",
    "        self.net = ANN()\n",
    "        self.gamma = gamma\n",
    "        self.epsilon = epsilon\n",
    "        self.lambda_ = lambda_\n",
    "        self.eligibility_traces = {name: torch.zeros_like(param).to(device) for name, param in self.net.named_parameters()}\n",
    "        self.optimizer = torch.optim.Adam(self.net.parameters(), lr=lr)\n",
    "\n",
    "    def get_value(self, state):\n",
    "        \"\"\"Predict V(s) for a state tensor.\"\"\"\n",
    "        state_tensor = torch.tensor(state.get_tensor_representation(), dtype=torch.float32, requires_grad=True).to(device)\n",
    "        return self.net(state_tensor)\n",
    "\n",
    "    def update_eligibility_traces(self):\n",
    "        \"\"\"Decay and reset eligibility traces.\"\"\"\n",
    "        with torch.no_grad():\n",
    "            for name in self.eligibility_traces:\n",
    "                self.eligibility_traces[name] *= (self.gamma * self.lambda_)\n",
    "\n",
    "    def reset_eligibility_traces(self):\n",
    "        \"\"\"Reset traces to zero.\"\"\"\n",
    "        for name in self.eligibility_traces:\n",
    "            self.eligibility_traces[name].zero_()\n",
    "\n",
    "    def epsilon_greedy(self, candidate_states: List[State]):\n",
    "        \"\"\"Select a state from candidates using ε-greedy policy.\"\"\"\n",
    "        if np.random.rand() < self.epsilon:\n",
    "            # Random exploration\n",
    "            chosen_idx = np.random.randint(len(candidate_states))\n",
    "            value = self.get_value(candidate_states[chosen_idx])\n",
    "        else:\n",
    "            values = [self.get_value(state) for state in candidate_states]\n",
    "            values_float = [value.item() for value in values]\n",
    "            chosen_idx = np.argmax(values_float)\n",
    "            value = values[chosen_idx]\n",
    "        return candidate_states[chosen_idx], value\n",
    "    \n",
    "    def update_weights(self, td_error):\n",
    "        \"\"\"Update network weights using eligibility traces and TD error.\"\"\"\n",
    "        for name, param in self.net.named_parameters():\n",
    "            param.data += self.optimizer.param_groups[0]['lr'] * td_error * self.eligibility_traces[name]"
   ]
  },
  {
   "cell_type": "code",
   "execution_count": null,
   "metadata": {},
   "outputs": [],
   "source": [
    "game = LongNardy()"
   ]
  },
  {
   "cell_type": "code",
   "execution_count": null,
   "metadata": {},
   "outputs": [],
   "source": [
    "agent1 = Agent(0.9, 0.9, 0.9, 0.9).to(device)\n",
    "agent2 = Agent(0.9, 0.9, 0.9, 0.9).to(device)"
   ]
  },
  {
   "cell_type": "code",
   "execution_count": null,
   "metadata": {},
   "outputs": [],
   "source": [
    "num_episodes = 1\n",
    "state_generator = game\n",
    "for episode in range(num_episodes):\n",
    "    # Initialize episode\n",
    "    candidate_states = state_generator.get_states_after_dice()\n",
    "    done = False\n",
    "    agent_turn = 0  # Alternate turns between agents (0: agent1, 1: agent2)\n",
    "\n",
    "    i = 0\n",
    "    while not done:\n",
    "        # state_generator.state.pretty_print()\n",
    "        i += 1\n",
    "        print(f\"Turn {i}\")\n",
    "        # Select agent based on turn\n",
    "        agent = agent1 if agent_turn == 0 else agent2\n",
    "\n",
    "        # 1. Select state using ε-greedy\n",
    "        chosen_state, current_value = agent.epsilon_greedy(candidate_states)\n",
    "        \n",
    "        # 2. Observe reward and next states\n",
    "        state_generator.step(chosen_state)\n",
    "\n",
    "        if state_generator.is_finished():\n",
    "            reward = 1\n",
    "            next_value = 0.0\n",
    "            done = True\n",
    "        else:\n",
    "            reward = 0\n",
    "            # print(\"getting states\")\n",
    "            next_candidate_states = state_generator.get_states_after_dice()\n",
    "            # print(f\"got {len(next_candidate_states)} states\")\n",
    "            if (len(next_candidate_states) > 1000):\n",
    "                # print(\"STOP\")\n",
    "                episode = num_episodes\n",
    "                error_state = state_generator.state.copy()\n",
    "                error_states = next_candidate_states\n",
    "                break\n",
    "\n",
    "            if len(next_candidate_states) == 0:\n",
    "                state_generator.step(chosen_state)\n",
    "                continue\n",
    "            \n",
    "            # 3. Compute TD error\n",
    "            with torch.no_grad():\n",
    "                # print(\"calculating next values\")\n",
    "                next_values = [agent.get_value(ns).item() for ns in next_candidate_states]\n",
    "                # print(\"calculated next values\")\n",
    "                next_value = max(next_values)\n",
    "\n",
    "        td_error = reward + agent.gamma * next_value - current_value.item()\n",
    "\n",
    "        # 4. Compute gradients and update eligibility traces\n",
    "        # print(\"zeroing grad\")\n",
    "        agent.net.zero_grad()\n",
    "        # print(\"backprop\")\n",
    "        current_value.backward()\n",
    "        agent.update_eligibility_traces()\n",
    "        for name, param in agent.net.named_parameters():\n",
    "            agent.eligibility_traces[name] += param.grad\n",
    "\n",
    "        # 5. Update weights\n",
    "        agent.update_weights(td_error)\n",
    "\n",
    "        # 6. Prepare for next step\n",
    "        candidate_states = next_candidate_states\n",
    "\n",
    "        # Switch turns\n",
    "        agent_turn = 1 - agent_turn\n",
    "\n",
    "    if episode < 10:\n",
    "        print(f\"Episode {episode+1}\")\n",
    "    elif episode < 100 and episode % 10 == 0:\n",
    "        print(f\"Episode {episode+1}\")\n",
    "    elif episode < 1000 and episode % 100:\n",
    "        print(f\"Episode {episode+1}\")\n",
    "    elif episode % 1000:\n",
    "        print(f\"Episode {episode+1}\")\n",
    "\n",
    "        torch.save(agent1.state_dict(), f\"agent1_epoch_{episode}_latest.pth\")\n",
    "        torch.save(agent2.state_dict(), f\"agent2_epoch_{episode}_latest.pth\")\n",
    "game.state.reset()"
   ]
  },
  {
   "cell_type": "code",
   "execution_count": null,
   "metadata": {},
   "outputs": [],
   "source": [
    "error_state.dice_remaining"
   ]
  },
  {
   "cell_type": "code",
   "execution_count": null,
   "metadata": {},
   "outputs": [],
   "source": [
    "error_state.pretty_print()"
   ]
  },
  {
   "cell_type": "code",
   "execution_count": null,
   "metadata": {},
   "outputs": [],
   "source": [
    "test = LongNardy()\n",
    "test.state = error_state"
   ]
  },
  {
   "cell_type": "code",
   "execution_count": null,
   "metadata": {},
   "outputs": [],
   "source": [
    "test_states = test.get_states_after_dice()"
   ]
  },
  {
   "cell_type": "code",
   "execution_count": null,
   "metadata": {},
   "outputs": [],
   "source": [
    "# import json\n",
    "# with open(\"error_state.json\", \"w\") as f:\n",
    "#     json.dump(error_state.to_dict(), f)"
   ]
  }
 ],
 "metadata": {
  "kernelspec": {
   "display_name": "Python 3 (ipykernel)",
   "language": "python",
   "name": "python3"
  },
  "language_info": {
   "codemirror_mode": {
    "name": "ipython",
    "version": 3
   },
   "file_extension": ".py",
   "mimetype": "text/x-python",
   "name": "python",
   "nbconvert_exporter": "python",
   "pygments_lexer": "ipython3",
   "version": "3.9.7"
  }
 },
 "nbformat": 4,
 "nbformat_minor": 2
}
