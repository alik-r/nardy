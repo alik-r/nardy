{
 "cells": [
  {
   "cell_type": "code",
   "execution_count": null,
   "metadata": {},
   "outputs": [],
   "source": [
    "import torch\n",
    "from torch import nn\n",
    "import numpy as np\n",
    "from long_nardy import LongNardy"
   ]
  },
  {
   "cell_type": "code",
   "execution_count": null,
   "metadata": {},
   "outputs": [],
   "source": [
    "device = torch.accelerator.current_accelerator().type if torch.accelerator.is_available() else \"cpu\"\n",
    "print(f\"Using {device} device\")"
   ]
  },
  {
   "cell_type": "code",
   "execution_count": null,
   "metadata": {},
   "outputs": [],
   "source": [
    "class ANN(nn.Module):\n",
    "    def __init__(self):\n",
    "        super.__init__()\n",
    "\n",
    "        hidden_layers = []\n",
    "        hidden_layers.append(nn.Linear(100, 40))\n",
    "        hidden_layers.append(nn.ReLU())\n",
    "        for _ in range(80):\n",
    "            hidden_layers.append(nn.Linear(40, 40))\n",
    "            hidden_layers.append(nn.ReLU())\n",
    "        hidden_layers.append(nn.Sigmoid())\n",
    "\n",
    "        self.sequence = nn.Sequential(*hidden_layers)\n",
    "\n",
    "    def forward(self, x):\n",
    "        return self.sequence(x)"
   ]
  },
  {
   "cell_type": "code",
   "execution_count": null,
   "metadata": {},
   "outputs": [],
   "source": [
    "game = LongNardy()"
   ]
  },
  {
   "cell_type": "code",
   "execution_count": null,
   "metadata": {},
   "outputs": [],
   "source": [
    "model = ANN().to(device)"
   ]
  },
  {
   "cell_type": "code",
   "execution_count": null,
   "metadata": {},
   "outputs": [],
   "source": [
    "alpha=0.9"
   ]
  },
  {
   "cell_type": "code",
   "execution_count": null,
   "metadata": {},
   "outputs": [],
   "source": [
    "eligibility_traces = {name: torch.zeros_like(param) for name, param in model.named_parameters()}\n",
    "optimizer = torch.optim.Adam(model.parameters(), lr=alpha)"
   ]
  },
  {
   "cell_type": "code",
   "execution_count": null,
   "metadata": {},
   "outputs": [],
   "source": [
    "def train_agent(agent, num_episodes, state_generator):\n",
    "    for episode in range(num_episodes):\n",
    "        # Initialize episode\n",
    "        game.roll_dice()\n",
    "        candidate_states = game.get_valid_moves()\n",
    "        episode_history = []\n",
    "        done = False\n",
    "\n",
    "        while not done:\n",
    "            # 1. Select state using ε-greedy\n",
    "            chosen_state, _ = agent.epsilon_greedy(candidate_states)\n",
    "            \n",
    "            # 2. Observe reward and next states\n",
    "            reward, next_candidate_states = state_generator.step(chosen_state)\n",
    "            \n",
    "            # 3. Compute TD error\n",
    "            with torch.no_grad():\n",
    "                if not next_candidate_states:  # Terminal state\n",
    "                    next_value = 0.0\n",
    "                    done = True\n",
    "                else:\n",
    "                    next_values = [agent.get_value(ns).item() for ns in next_candidate_states]\n",
    "                    next_value = max(next_values)\n",
    "                    \n",
    "            current_value = agent.get_value(chosen_state)\n",
    "            td_error = reward + agent.gamma * next_value - current_value.item()\n",
    "\n",
    "            # 4. Compute gradients and update eligibility traces\n",
    "            agent.net.zero_grad()\n",
    "            current_value.backward()\n",
    "            agent.update_eligibility_traces()\n",
    "            for name, param in agent.net.named_parameters():\n",
    "                agent.eligibility_traces[name] += param.grad\n",
    "\n",
    "            # 5. Update weights\n",
    "            agent.update_weights(td_error)\n",
    "\n",
    "            # 6. Prepare for next step\n",
    "            candidate_states = next_candidate_states\n",
    "            agent.decay_epsilon()\n",
    "\n",
    "        print(f\"Episode {episode+1}, Final Reward: {reward:.2f}\")"
   ]
  }
 ],
 "metadata": {
  "kernelspec": {
   "display_name": "Python 3",
   "language": "python",
   "name": "python3"
  },
  "language_info": {
   "codemirror_mode": {
    "name": "ipython",
    "version": 3
   },
   "file_extension": ".py",
   "mimetype": "text/x-python",
   "name": "python",
   "nbconvert_exporter": "python",
   "pygments_lexer": "ipython3",
   "version": "3.10.7"
  }
 },
 "nbformat": 4,
 "nbformat_minor": 2
}
