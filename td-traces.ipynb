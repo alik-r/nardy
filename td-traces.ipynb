{
 "cells": [
  {
   "cell_type": "code",
   "execution_count": 1,
   "metadata": {},
   "outputs": [],
   "source": [
    "import torch\n",
    "from torch import nn\n",
    "import numpy as np\n",
    "from long_nardy import LongNardy\n",
    "from state import State\n",
    "from typing import Tuple, List"
   ]
  },
  {
   "cell_type": "code",
   "execution_count": 2,
   "metadata": {},
   "outputs": [
    {
     "name": "stdout",
     "output_type": "stream",
     "text": [
      "Using cpu device\n"
     ]
    }
   ],
   "source": [
    "device = torch.accelerator.current_accelerator().type if torch.accelerator.is_available() else \"cpu\"\n",
    "print(f\"Using {device} device\")"
   ]
  },
  {
   "cell_type": "code",
   "execution_count": 3,
   "metadata": {},
   "outputs": [],
   "source": [
    "class ANN(nn.Module):\n",
    "    def __init__(self):\n",
    "        super().__init__()\n",
    "\n",
    "        hidden_layers = []\n",
    "        hidden_layers.append(nn.Linear(100, 40))\n",
    "        hidden_layers.append(nn.ReLU())\n",
    "        for _ in range(80):\n",
    "            hidden_layers.append(nn.Linear(40, 40))\n",
    "            hidden_layers.append(nn.ReLU())\n",
    "        hidden_layers.append(nn.Linear(40, 1))\n",
    "        hidden_layers.append(nn.Sigmoid())\n",
    "\n",
    "        self.net = nn.Sequential(*hidden_layers)\n",
    "\n",
    "    def forward(self, x):\n",
    "        return self.net(x)"
   ]
  },
  {
   "cell_type": "code",
   "execution_count": 4,
   "metadata": {},
   "outputs": [],
   "source": [
    "class Agent(nn.Module):\n",
    "    def __init__(self, lr, gamma, epsilon, lambda_):\n",
    "        super().__init__()\n",
    "        self.net = ANN()\n",
    "        self.gamma = gamma\n",
    "        self.epsilon = epsilon\n",
    "        self.lambda_ = lambda_\n",
    "        self.eligibility_traces = {name: torch.zeros_like(param) for name, param in self.net.named_parameters()}\n",
    "        self.optimizer = torch.optim.Adam(self.net.parameters(), lr=lr)\n",
    "\n",
    "    def get_value(self, state):\n",
    "        \"\"\"Predict V(s) for a state tensor.\"\"\"\n",
    "        state_tensor = torch.tensor(state.get_tensor_representation(), dtype=torch.float32, requires_grad=True)\n",
    "        return self.net(state_tensor)\n",
    "\n",
    "    def update_eligibility_traces(self):\n",
    "        \"\"\"Decay and reset eligibility traces.\"\"\"\n",
    "        with torch.no_grad():\n",
    "            for name in self.eligibility_traces:\n",
    "                self.eligibility_traces[name] *= (self.gamma * self.lambda_)\n",
    "\n",
    "    def reset_eligibility_traces(self):\n",
    "        \"\"\"Reset traces to zero.\"\"\"\n",
    "        for name in self.eligibility_traces:\n",
    "            self.eligibility_traces[name].zero_()\n",
    "\n",
    "    def epsilon_greedy(self, candidate_states: List[State]):\n",
    "        \"\"\"Select a state from candidates using ε-greedy policy.\"\"\"\n",
    "        if np.random.rand() < self.epsilon:\n",
    "            # Random exploration\n",
    "            chosen_idx = np.random.randint(len(candidate_states))\n",
    "            value = self.get_value(candidate_states[chosen_idx])\n",
    "        else:\n",
    "            # Exploitation: choose state with highest value\n",
    "            with torch.no_grad():\n",
    "                values = [self.get_value(state) for state in candidate_states]\n",
    "            values_float = [value.item() for value in values]\n",
    "            chosen_idx = np.argmax(values_float)\n",
    "            value = values[chosen_idx]\n",
    "        return candidate_states[chosen_idx], value\n",
    "    \n",
    "    def update_weights(self, td_error):\n",
    "        \"\"\"Update network weights using eligibility traces and TD error.\"\"\"\n",
    "        for name, param in self.net.named_parameters():\n",
    "            param.data += self.optimizer.param_groups[0]['lr'] * td_error * self.eligibility_traces[name]"
   ]
  },
  {
   "cell_type": "code",
   "execution_count": 5,
   "metadata": {},
   "outputs": [],
   "source": [
    "game = LongNardy()"
   ]
  },
  {
   "cell_type": "code",
   "execution_count": 6,
   "metadata": {},
   "outputs": [],
   "source": [
    "agent1 = Agent(0.9, 0.9, 0.9, 0.9).to(device)\n",
    "agent2 = Agent(0.9, 0.9, 0.9, 0.9).to(device)"
   ]
  },
  {
   "cell_type": "code",
   "execution_count": 7,
   "metadata": {},
   "outputs": [],
   "source": [
    "def train_two_agents(agent1: Agent, agent2: Agent, num_episodes, state_generator: LongNardy):\n",
    "    for episode in range(num_episodes):\n",
    "        # Initialize episode\n",
    "        candidate_states = state_generator.get_states_after_dice()\n",
    "        done = False\n",
    "        agent_turn = 0  # Alternate turns between agents (0: agent1, 1: agent2)\n",
    "\n",
    "        while not done:\n",
    "            # Select agent based on turn\n",
    "            agent = agent1 if agent_turn == 0 else agent2\n",
    "\n",
    "            # 1. Select state using ε-greedy\n",
    "            chosen_state, current_value = agent.epsilon_greedy(candidate_states)\n",
    "            \n",
    "            # 2. Observe reward and next states\n",
    "            state_generator.step(chosen_state)\n",
    "\n",
    "            if state_generator.is_finished():\n",
    "                reward = 1\n",
    "            else:\n",
    "                reward = 0\n",
    "            \n",
    "            next_candidate_states = state_generator.get_states_after_dice()\n",
    "            \n",
    "            # 3. Compute TD error\n",
    "            with torch.no_grad():\n",
    "                if not next_candidate_states:  # Terminal state\n",
    "                    next_value = 0.0\n",
    "                    done = True\n",
    "                else:\n",
    "                    next_values = [agent.get_value(ns).item() for ns in next_candidate_states]\n",
    "                    next_value = max(next_values)\n",
    "\n",
    "            td_error = reward + agent.gamma * next_value - current_value.item()\n",
    "\n",
    "            # 4. Compute gradients and update eligibility traces\n",
    "            agent.net.zero_grad()\n",
    "            current_value.backward()\n",
    "            agent.update_eligibility_traces()\n",
    "            for name, param in agent.net.named_parameters():\n",
    "                agent.eligibility_traces[name] += param.grad\n",
    "\n",
    "            # 5. Update weights\n",
    "            agent.update_weights(td_error)\n",
    "\n",
    "            # 6. Prepare for next step\n",
    "            candidate_states = next_candidate_states\n",
    "\n",
    "            # Switch turns\n",
    "            agent_turn = 1 - agent_turn\n",
    "\n",
    "        if episode < 10:\n",
    "            print(f\"Episode {episode+1}\")\n",
    "        elif episode < 100 and episode % 10 == 0:\n",
    "            print(f\"Episode {episode+1}\")\n",
    "        elif episode < 1000 and episode % 100:\n",
    "            print(f\"Episode {episode+1}\")\n",
    "        elif episode % 1000:\n",
    "            print(f\"Episode {episode+1}\")\n",
    "\n",
    "            torch.save(agent1.state_dict(), f\"agent1_epoch_{episode}_latest.pth\")\n",
    "            torch.save(agent2.state_dict(), f\"agent2_epoch_{episode}_latest.pth\")\n",
    "    game.state.reset()"
   ]
  },
  {
   "cell_type": "code",
   "execution_count": 8,
   "metadata": {},
   "outputs": [
    {
     "ename": "RuntimeError",
     "evalue": "element 0 of tensors does not require grad and does not have a grad_fn",
     "output_type": "error",
     "traceback": [
      "\u001b[1;31m---------------------------------------------------------------------------\u001b[0m",
      "\u001b[1;31mRuntimeError\u001b[0m                              Traceback (most recent call last)",
      "Cell \u001b[1;32mIn[8], line 1\u001b[0m\n\u001b[1;32m----> 1\u001b[0m \u001b[43mtrain_two_agents\u001b[49m\u001b[43m(\u001b[49m\u001b[43magent1\u001b[49m\u001b[43m,\u001b[49m\u001b[43m \u001b[49m\u001b[43magent2\u001b[49m\u001b[43m,\u001b[49m\u001b[43m \u001b[49m\u001b[38;5;241;43m1000\u001b[39;49m\u001b[43m,\u001b[49m\u001b[43m \u001b[49m\u001b[43mgame\u001b[49m\u001b[43m)\u001b[49m\n",
      "Cell \u001b[1;32mIn[7], line 38\u001b[0m, in \u001b[0;36mtrain_two_agents\u001b[1;34m(agent1, agent2, num_episodes, state_generator)\u001b[0m\n\u001b[0;32m     36\u001b[0m \u001b[38;5;66;03m# 4. Compute gradients and update eligibility traces\u001b[39;00m\n\u001b[0;32m     37\u001b[0m agent\u001b[38;5;241m.\u001b[39mnet\u001b[38;5;241m.\u001b[39mzero_grad()\n\u001b[1;32m---> 38\u001b[0m \u001b[43mcurrent_value\u001b[49m\u001b[38;5;241;43m.\u001b[39;49m\u001b[43mbackward\u001b[49m\u001b[43m(\u001b[49m\u001b[43m)\u001b[49m\n\u001b[0;32m     39\u001b[0m agent\u001b[38;5;241m.\u001b[39mupdate_eligibility_traces()\n\u001b[0;32m     40\u001b[0m \u001b[38;5;28;01mfor\u001b[39;00m name, param \u001b[38;5;129;01min\u001b[39;00m agent\u001b[38;5;241m.\u001b[39mnet\u001b[38;5;241m.\u001b[39mnamed_parameters():\n",
      "File \u001b[1;32mc:\\Python311\\Lib\\site-packages\\torch\\_tensor.py:626\u001b[0m, in \u001b[0;36mTensor.backward\u001b[1;34m(self, gradient, retain_graph, create_graph, inputs)\u001b[0m\n\u001b[0;32m    616\u001b[0m \u001b[38;5;28;01mif\u001b[39;00m has_torch_function_unary(\u001b[38;5;28mself\u001b[39m):\n\u001b[0;32m    617\u001b[0m     \u001b[38;5;28;01mreturn\u001b[39;00m handle_torch_function(\n\u001b[0;32m    618\u001b[0m         Tensor\u001b[38;5;241m.\u001b[39mbackward,\n\u001b[0;32m    619\u001b[0m         (\u001b[38;5;28mself\u001b[39m,),\n\u001b[1;32m   (...)\u001b[0m\n\u001b[0;32m    624\u001b[0m         inputs\u001b[38;5;241m=\u001b[39minputs,\n\u001b[0;32m    625\u001b[0m     )\n\u001b[1;32m--> 626\u001b[0m \u001b[43mtorch\u001b[49m\u001b[38;5;241;43m.\u001b[39;49m\u001b[43mautograd\u001b[49m\u001b[38;5;241;43m.\u001b[39;49m\u001b[43mbackward\u001b[49m\u001b[43m(\u001b[49m\n\u001b[0;32m    627\u001b[0m \u001b[43m    \u001b[49m\u001b[38;5;28;43mself\u001b[39;49m\u001b[43m,\u001b[49m\u001b[43m \u001b[49m\u001b[43mgradient\u001b[49m\u001b[43m,\u001b[49m\u001b[43m \u001b[49m\u001b[43mretain_graph\u001b[49m\u001b[43m,\u001b[49m\u001b[43m \u001b[49m\u001b[43mcreate_graph\u001b[49m\u001b[43m,\u001b[49m\u001b[43m \u001b[49m\u001b[43minputs\u001b[49m\u001b[38;5;241;43m=\u001b[39;49m\u001b[43minputs\u001b[49m\n\u001b[0;32m    628\u001b[0m \u001b[43m\u001b[49m\u001b[43m)\u001b[49m\n",
      "File \u001b[1;32mc:\\Python311\\Lib\\site-packages\\torch\\autograd\\__init__.py:347\u001b[0m, in \u001b[0;36mbackward\u001b[1;34m(tensors, grad_tensors, retain_graph, create_graph, grad_variables, inputs)\u001b[0m\n\u001b[0;32m    342\u001b[0m     retain_graph \u001b[38;5;241m=\u001b[39m create_graph\n\u001b[0;32m    344\u001b[0m \u001b[38;5;66;03m# The reason we repeat the same comment below is that\u001b[39;00m\n\u001b[0;32m    345\u001b[0m \u001b[38;5;66;03m# some Python versions print out the first line of a multi-line function\u001b[39;00m\n\u001b[0;32m    346\u001b[0m \u001b[38;5;66;03m# calls in the traceback and some print out the last line\u001b[39;00m\n\u001b[1;32m--> 347\u001b[0m \u001b[43m_engine_run_backward\u001b[49m\u001b[43m(\u001b[49m\n\u001b[0;32m    348\u001b[0m \u001b[43m    \u001b[49m\u001b[43mtensors\u001b[49m\u001b[43m,\u001b[49m\n\u001b[0;32m    349\u001b[0m \u001b[43m    \u001b[49m\u001b[43mgrad_tensors_\u001b[49m\u001b[43m,\u001b[49m\n\u001b[0;32m    350\u001b[0m \u001b[43m    \u001b[49m\u001b[43mretain_graph\u001b[49m\u001b[43m,\u001b[49m\n\u001b[0;32m    351\u001b[0m \u001b[43m    \u001b[49m\u001b[43mcreate_graph\u001b[49m\u001b[43m,\u001b[49m\n\u001b[0;32m    352\u001b[0m \u001b[43m    \u001b[49m\u001b[43minputs\u001b[49m\u001b[43m,\u001b[49m\n\u001b[0;32m    353\u001b[0m \u001b[43m    \u001b[49m\u001b[43mallow_unreachable\u001b[49m\u001b[38;5;241;43m=\u001b[39;49m\u001b[38;5;28;43;01mTrue\u001b[39;49;00m\u001b[43m,\u001b[49m\n\u001b[0;32m    354\u001b[0m \u001b[43m    \u001b[49m\u001b[43maccumulate_grad\u001b[49m\u001b[38;5;241;43m=\u001b[39;49m\u001b[38;5;28;43;01mTrue\u001b[39;49;00m\u001b[43m,\u001b[49m\n\u001b[0;32m    355\u001b[0m \u001b[43m\u001b[49m\u001b[43m)\u001b[49m\n",
      "File \u001b[1;32mc:\\Python311\\Lib\\site-packages\\torch\\autograd\\graph.py:823\u001b[0m, in \u001b[0;36m_engine_run_backward\u001b[1;34m(t_outputs, *args, **kwargs)\u001b[0m\n\u001b[0;32m    821\u001b[0m     unregister_hooks \u001b[38;5;241m=\u001b[39m _register_logging_hooks_on_whole_graph(t_outputs)\n\u001b[0;32m    822\u001b[0m \u001b[38;5;28;01mtry\u001b[39;00m:\n\u001b[1;32m--> 823\u001b[0m     \u001b[38;5;28;01mreturn\u001b[39;00m \u001b[43mVariable\u001b[49m\u001b[38;5;241;43m.\u001b[39;49m\u001b[43m_execution_engine\u001b[49m\u001b[38;5;241;43m.\u001b[39;49m\u001b[43mrun_backward\u001b[49m\u001b[43m(\u001b[49m\u001b[43m  \u001b[49m\u001b[38;5;66;43;03m# Calls into the C++ engine to run the backward pass\u001b[39;49;00m\n\u001b[0;32m    824\u001b[0m \u001b[43m        \u001b[49m\u001b[43mt_outputs\u001b[49m\u001b[43m,\u001b[49m\u001b[43m \u001b[49m\u001b[38;5;241;43m*\u001b[39;49m\u001b[43margs\u001b[49m\u001b[43m,\u001b[49m\u001b[43m \u001b[49m\u001b[38;5;241;43m*\u001b[39;49m\u001b[38;5;241;43m*\u001b[39;49m\u001b[43mkwargs\u001b[49m\n\u001b[0;32m    825\u001b[0m \u001b[43m    \u001b[49m\u001b[43m)\u001b[49m  \u001b[38;5;66;03m# Calls into the C++ engine to run the backward pass\u001b[39;00m\n\u001b[0;32m    826\u001b[0m \u001b[38;5;28;01mfinally\u001b[39;00m:\n\u001b[0;32m    827\u001b[0m     \u001b[38;5;28;01mif\u001b[39;00m attach_logging_hooks:\n",
      "\u001b[1;31mRuntimeError\u001b[0m: element 0 of tensors does not require grad and does not have a grad_fn"
     ]
    }
   ],
   "source": [
    "train_two_agents(agent1, agent2, 1000, game)"
   ]
  }
 ],
 "metadata": {
  "kernelspec": {
   "display_name": "Python 3",
   "language": "python",
   "name": "python3"
  },
  "language_info": {
   "codemirror_mode": {
    "name": "ipython",
    "version": 3
   },
   "file_extension": ".py",
   "mimetype": "text/x-python",
   "name": "python",
   "nbconvert_exporter": "python",
   "pygments_lexer": "ipython3",
   "version": "3.11.5"
  }
 },
 "nbformat": 4,
 "nbformat_minor": 2
}
